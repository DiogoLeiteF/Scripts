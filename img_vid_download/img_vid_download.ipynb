{
 "cells": [
  {
   "cell_type": "code",
   "execution_count": null,
   "metadata": {},
   "outputs": [],
   "source": [
    "from bs4 import BeautifulSoup\n",
    "from selenium import webdriver\n",
    "import requests\n",
    "import time\n",
    "import os"
   ]
  },
  {
   "cell_type": "code",
   "execution_count": null,
   "metadata": {},
   "outputs": [],
   "source": [
    "def get_urls_from_main(url):\n",
    "    SCROLL_PAUSE_TIME = 0.5\n",
    "\n",
    "    driver = webdriver.Chrome()\n",
    "    driver.set_page_load_timeout(5)\n",
    "\n",
    "    driver.get(url)\n",
    "\n",
    "    # Get scroll height\n",
    "    last_height = driver.execute_script(\"return document.body.scrollHeight\")\n",
    "\n",
    "    while True:\n",
    "        # Scroll down to bottom\n",
    "        driver.execute_script(\"window.scrollTo(0, document.body.scrollHeight);\")\n",
    "\n",
    "        # Wait to load page\n",
    "        time.sleep(SCROLL_PAUSE_TIME)\n",
    "\n",
    "        # Calculate new scroll height and compare with last scroll height\n",
    "        new_height = driver.execute_script(\"return document.body.scrollHeight\")\n",
    "        if new_height == last_height:\n",
    "            break\n",
    "        last_height = new_height\n",
    "\n",
    "    soup = BeautifulSoup(driver.page_source, \"html.parser\")\n",
    "\n",
    "    div_class = \"max-w-full lg:h-64 h-40 rounded-md relative overflow-hidden uk-transition-toggle\"\n",
    "\n",
    "    hrefs = []\n",
    "\n",
    "    for link in soup.find_all(\"div\", class_=div_class):\n",
    "        hrefs.append(link.parent.get(\"href\"))\n",
    "\n",
    "    driver.close()\n",
    "    return hrefs"
   ]
  },
  {
   "cell_type": "code",
   "execution_count": null,
   "metadata": {},
   "outputs": [],
   "source": [
    "def get_urls_to_download(url):\n",
    "    resp = requests.get(url)\n",
    "    soup = BeautifulSoup(resp.content, \"html.parser\")\n",
    "    source = None\n",
    "    \n",
    "    if soup.find(\"video\"):\n",
    "        source = soup.find(\"video\").find(\"source\").get(\"src\")\n",
    "    else:\n",
    "        source = soup.find(\"a\", class_=\"uk-align-center\").find(\"img\").get(\"src\")\n",
    "\n",
    "    return source"
   ]
  },
  {
   "cell_type": "code",
   "execution_count": null,
   "metadata": {},
   "outputs": [],
   "source": [
    "def download(url):\n",
    "    name = url.split(\"/\")[-1]\n",
    "    ext = url[-4:]\n",
    "\n",
    "    if ext == \".mp4\":\n",
    "        resp = requests.get(url, stream=True)\n",
    "        with open(f\"{name}\", \"wb\") as f:\n",
    "            f.write(resp.content)\n",
    "\n",
    "    else:\n",
    "        resp = requests.get(url)\n",
    "        with open(f\"{name}\", \"wb\") as f:\n",
    "            print(f\"writing file {name}\")\n",
    "            f.write(resp.content)\n",
    "\n",
    "    print(\"done\")"
   ]
  },
  {
   "cell_type": "code",
   "execution_count": null,
   "metadata": {},
   "outputs": [],
   "source": [
    "def main(url=None):\n",
    "    if url is None:\n",
    "        print(\"input url\")\n",
    "        return\n",
    "    \n",
    "    folder_name = url.split('/')[-1] if url.split('/')[-1] != \"\" else url.split(\"/\")[-2]\n",
    "    \n",
    "    \n",
    "    try:\n",
    "        if not os.path.exists(f'./{folder_name}'):\n",
    "            os.mkdir(f'./{folder_name}')\n",
    "    except:\n",
    "        folder_name = \"img\"\n",
    "        if not os.path.exists(f'./{folder_name}'):\n",
    "            os.mkdir(f'./{folder_name}')\n",
    "            \n",
    "    os.chdir(f'./{folder_name}')\n",
    "    \n",
    "    try: \n",
    "        hrefs= get_urls_from_main(url)\n",
    "    except:\n",
    "        print(\"input correct url\")\n",
    "    else:\n",
    "        missing = len(hrefs)\n",
    "        for url in hrefs:\n",
    "            print(f\"missing ==> {missing} files\")\n",
    "            source = get_urls_to_download(url)\n",
    "            if source == None:\n",
    "                print(\"failed to get source\", url)\n",
    "            else:\n",
    "                try:\n",
    "                    download(source)\n",
    "                except:\n",
    "                    print(\"Download failed\", source)\n",
    "            missing -= 1\n",
    "            \n",
    "    os.chdir(f'../')"
   ]
  },
  {
   "cell_type": "code",
   "execution_count": null,
   "metadata": {},
   "outputs": [],
   "source": [
    "from dotenv import load_dotenv\n",
    "\n",
    "load_dotenv()\n",
    "\n",
    "URL = os.getenv('URL')\n",
    "\n",
    "main(URL)\n"
   ]
  }
 ],
 "metadata": {
  "kernelspec": {
   "display_name": ".venv",
   "language": "python",
   "name": "python3"
  },
  "language_info": {
   "codemirror_mode": {
    "name": "ipython",
    "version": 3
   },
   "file_extension": ".py",
   "mimetype": "text/x-python",
   "name": "python",
   "nbconvert_exporter": "python",
   "pygments_lexer": "ipython3",
   "version": "3.10.9"
  },
  "orig_nbformat": 4
 },
 "nbformat": 4,
 "nbformat_minor": 2
}
